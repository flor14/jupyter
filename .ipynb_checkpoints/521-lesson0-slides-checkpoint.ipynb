{
 "cells": [
  {
   "cell_type": "markdown",
   "id": "e5ad7c4e-1735-41ca-aa45-44b5540fe803",
   "metadata": {
    "slideshow": {
     "slide_type": "slide"
    }
   },
   "source": [
    "<img src=\"img/UBC_MDS_logo.png\" width=\"10%\" style=\"float:none\"/>\n",
    "# 521 - Computing Platforms for Data Science\n",
    "## Master of Data Science  2021/22\n",
    "### University of British Columbia\n",
    "\n"
   ]
  },
  {
   "cell_type": "markdown",
   "id": "49cb400b",
   "metadata": {
    "slideshow": {
     "slide_type": "notes"
    }
   },
   "source": [
    "Welcome to computer Platforms for Data Science! My name is Florencia D'Andrea and I will your instructor this term.\n"
   ]
  },
  {
   "cell_type": "markdown",
   "id": "5159a879",
   "metadata": {
    "slideshow": {
     "slide_type": "notes"
    }
   },
   "source": [
    "Welcome! "
   ]
  },
  {
   "cell_type": "markdown",
   "id": "7b519a2e",
   "metadata": {
    "slideshow": {
     "slide_type": "slide"
    }
   },
   "source": [
    "<img src=\"img/welcome.jpg\" width=\"50%\" style=\"float:rigth\"/>\n",
    "\n",
    "\n",
    "\n",
    "\n",
    "\n",
    "### Florencia D'Andrea  \n",
    "**Mail** fdandrea@cs.ubc.ca  \n",
    "**Slack channel** #521_platforms-dsci  \n",
    "**Office hours** Fridays 10-11 am  \n",
    "\n",
    "<font size=\"-2\">The Turing Way Community, & Scriberia(2020)</font>\n",
    "\n",
    "\n"
   ]
  },
  {
   "cell_type": "code",
   "execution_count": 1,
   "id": "c3da96a7",
   "metadata": {
    "slideshow": {
     "slide_type": "notes"
    }
   },
   "outputs": [
    {
     "ename": "SyntaxError",
     "evalue": "invalid syntax (Temp/ipykernel_4084/1295321644.py, line 3)",
     "output_type": "error",
     "traceback": [
      "\u001b[1;36m  File \u001b[1;32m\"C:\\Users\\FLOREN~1\\AppData\\Local\\Temp/ipykernel_4084/1295321644.py\"\u001b[1;36m, line \u001b[1;32m3\u001b[0m\n\u001b[1;33m    [Giphy](https://giphy.com/gifs/book-reading-library-l0HlOBZcl7sbV6LnO)\u001b[0m\n\u001b[1;37m                 ^\u001b[0m\n\u001b[1;31mSyntaxError\u001b[0m\u001b[1;31m:\u001b[0m invalid syntax\n"
     ]
    }
   ],
   "source": [
    "   \n",
    "![](https://media.giphy.com/media/l0HlOBZcl7sbV6LnO/giphy.gif?cid=790b7611c11622650af980c85872310bbf7505eaf6aa2f40&rid=giphy.gif&ct=g)\n",
    "\n",
    "[Giphy](https://giphy.com/gifs/book-reading-library-l0HlOBZcl7sbV6LnO)"
   ]
  },
  {
   "cell_type": "markdown",
   "id": "edce9ea5",
   "metadata": {
    "slideshow": {
     "slide_type": "notes"
    }
   },
   "source": [
    "#### week 0\n",
    "\n",
    "0. Introduction to JupyterLab (_You are here!_)\n",
    "\n",
    "_Lab 0: Introduction to MDS homework and practice with Jupyter Notebooks_"
   ]
  },
  {
   "cell_type": "markdown",
   "id": "742c8373",
   "metadata": {
    "slideshow": {
     "slide_type": "notes"
    }
   },
   "source": [
    "#### week 1\n",
    "\n",
    "1. Introduction to MDS software\n",
    "2. Getting groovy with Git and GitHub\n",
    "\n",
    "_Lab 1: Introduction to MDS homework and practice with the shell, Git, and GitHub_\n"
   ]
  },
  {
   "cell_type": "markdown",
   "id": "32d4a94e",
   "metadata": {
    "slideshow": {
     "slide_type": "notes"
    }
   },
   "source": [
    "#### week 2\n",
    "\n",
    "3. Branches, forks, and streams... Welcome to the Git nature walk!\n",
    "4. Syncing with an upstream remote, time travelling with git reset, and pattern matching with regex\n",
    "\n",
    "_Lab 2: Branches and merge conflicts_\n"
   ]
  },
  {
   "cell_type": "markdown",
   "id": "aa852eb0",
   "metadata": {
    "slideshow": {
     "slide_type": "notes"
    }
   },
   "source": [
    "#### week 3\n",
    "\n",
    "5. RStudio and R Markdown\n",
    "6. YAML, Templates, Presentations, and Notebook formats\n",
    "\n",
    "_Lab 3: Introduction to RStudio and R Markdown for reports and presentations_\n"
   ]
  },
  {
   "cell_type": "markdown",
   "id": "99b99687",
   "metadata": {
    "slideshow": {
     "slide_type": "notes"
    }
   },
   "source": [
    "#### week 4\n",
    "\n",
    "7. SSH, filenames, and project organization\n",
    "8. Getting help, virtual environments, and some tips and tricks\n",
    "\n",
    "_Lab 4: RStudio projects and driving Git from RStudio_\n"
   ]
  },
  {
   "cell_type": "markdown",
   "id": "3ce0797f",
   "metadata": {
    "slideshow": {
     "slide_type": "notes"
    }
   },
   "source": [
    "## Learning Goals\n",
    "\n",
    "* Navigate their computer's filesystem via Bash.\n",
    "* Effectively use local and remote version control software (Git and GitHub).\n",
    "* Write regular expressions for pattern matching.\n",
    "* Create reproducible literate Python and R code documents (e.g., reports and presentations) using Jupyter and R notebooks.\n",
    "* Write Markdown syntax within literate code documents.\n"
   ]
  },
  {
   "cell_type": "markdown",
   "id": "b1142c97",
   "metadata": {
    "slideshow": {
     "slide_type": "notes"
    }
   },
   "source": [
    "## Learning Goals\n",
    "\n",
    "* Be comfortable using JupyterLab and RStudio.\n",
    "* Use virtual environments for R and Python.\n",
    "* Organize projects and name files in a sound manner.\n",
    "* Setup and authenticate via ssh keys\n",
    "* Create minimal reproducible code examples when asking for help.\n"
   ]
  },
  {
   "cell_type": "markdown",
   "id": "e3fe647b",
   "metadata": {
    "slideshow": {
     "slide_type": "slide"
    }
   },
   "source": [
    "\n",
    "\n",
    "<img src=\"img/network.jpg\" width=\"50%\" style=\"float:right\"/>\n",
    "\n",
    "\n",
    "## Teaching Assistants\n",
    "\n",
    "- Yi Xuan Qi \n",
    "\n",
    "- Matthew Nguyen \t\n",
    "\n",
    "- Pouya Ahmadvand\n",
    "\n",
    "- Shan Lu\n",
    "\n",
    "- Abdul Muntakim Rafi\n",
    "\n",
    "- Yuxin Tian \t\n",
    "\n",
    "- Ngoc Bui\n",
    "\n",
    "\n",
    "## Support\n",
    "\n",
    "- Joel Ostblom\n",
    "\n",
    "\n",
    "\n",
    "<font size=\"-2\">The Turing Way Community, & Scriberia(2020)</font>"
   ]
  },
  {
   "cell_type": "markdown",
   "id": "5f2f067f",
   "metadata": {
    "slideshow": {
     "slide_type": "notes"
    }
   },
   "source": [
    "This year we have X teaching assistants that are going to help you in the labs. Names"
   ]
  },
  {
   "cell_type": "markdown",
   "id": "e4a858a5",
   "metadata": {
    "slideshow": {
     "slide_type": "slide"
    }
   },
   "source": [
    "## Week 0\n",
    "\n",
    "### Assignments for Sep 8\n",
    "* MDS Policies Quizz\n",
    "* Software installation \n",
    "* Lab0\n",
    "\n"
   ]
  },
  {
   "cell_type": "markdown",
   "id": "dc2cd600",
   "metadata": {
    "slideshow": {
     "slide_type": "slide"
    }
   },
   "source": [
    "# Lecture 0\n",
    "## Introduction to JupyterLab"
   ]
  },
  {
   "cell_type": "markdown",
   "id": "6e01bab0",
   "metadata": {
    "slideshow": {
     "slide_type": "slide"
    }
   },
   "source": [
    "\n",
    "After this lecture you will be able to:\n",
    "\n",
    "- Launch JupyterLab \n",
    "- Use the Notebook interface inside JupyterLab\n",
    "- Know your way around the JupyterLab user interface\n",
    "\n",
    "   \n"
   ]
  },
  {
   "cell_type": "markdown",
   "id": "9a53af31",
   "metadata": {
    "slideshow": {
     "slide_type": "slide"
    }
   },
   "source": [
    "## What is JupyterLab?"
   ]
  },
  {
   "cell_type": "markdown",
   "id": "4e403e20",
   "metadata": {
    "slideshow": {
     "slide_type": "slide"
    }
   },
   "source": [
    "\n",
    "The most rudimentary interaction with programming languages such as R and Python is via interactive shells run from a terminal.\n",
    "\n",
    "<center>   \n",
    "<img src=\"img/python.png\" width=60%>\n",
    "</center>\n",
    "\n",
    "\n",
    "\n",
    "\n"
   ]
  },
  {
   "cell_type": "markdown",
   "id": "bdeb9ae9",
   "metadata": {
    "slideshow": {
     "slide_type": "notes"
    }
   },
   "source": [
    "The most rudimentary interaction with programming languages such as R and Python is via interactive shells run from a terminal.\n",
    "This provides access to the full functionality of the language, but is a barebones experience without any conveniences added.\n",
    "If you want to edit a script or view a plot that you created, you need to open a text editor and image viewer separately.\n"
   ]
  },
  {
   "cell_type": "markdown",
   "id": "47d2cdc3",
   "metadata": {
    "slideshow": {
     "slide_type": "slide"
    }
   },
   "source": [
    "<img src=\"img/jlab_nb.png\" width=\"100%\" style=\"float:center\"/>"
   ]
  },
  {
   "cell_type": "markdown",
   "id": "3d1b7f18",
   "metadata": {
    "slideshow": {
     "slide_type": "slide"
    }
   },
   "source": [
    "## Integrated Development Environment (IDE)\n",
    "\n",
    "Provide all the tools you need in one place\n",
    "\n"
   ]
  },
  {
   "cell_type": "markdown",
   "id": "34143f75",
   "metadata": {
    "slideshow": {
     "slide_type": "fragment"
    }
   },
   "source": [
    "<center>   \n",
    "<img src=\"img/logos_ides.png\" width=80%>\n",
    "</center>"
   ]
  },
  {
   "cell_type": "markdown",
   "id": "4e910d50",
   "metadata": {
    "slideshow": {
     "slide_type": "notes"
    }
   },
   "source": [
    "If you prefer a more holistic experience, with many of conveniences nicely organized in the same interface, you can use an integrated development environment (or IDE for short).\n",
    "IDEs often include a shell, a file browser, debugging tools, a text editor with autocompletion and syntax highlighting, and an area where plots show up.\n",
    "A core idea of IDEs is to provide all the tools you need in one place, and we will see later today how it is also possible to things like version control from within your IDE.\n",
    "Commons IDEs that you might have heard of include Visual Studio Code and RStudio, and today we will be learning about Jlab"
   ]
  },
  {
   "cell_type": "markdown",
   "id": "92392370",
   "metadata": {
    "slideshow": {
     "slide_type": "slide"
    }
   },
   "source": [
    "\n",
    "After this lecture you will be able to:\n",
    "\n",
    "* <mark style=\"background-color: lightblue\"> Launch JupyterLab </mark>\n",
    "\n",
    "* Use the Notebook interface inside JupyterLab\n",
    "\n",
    "* Know your way around the JupyterLab user interface"
   ]
  },
  {
   "cell_type": "markdown",
   "id": "e4522da7",
   "metadata": {
    "slideshow": {
     "slide_type": "notes"
    }
   },
   "source": [
    "JupyterLab, is and IDE to work with many programming languages, including R, Python, Julia, and many more.\n",
    "A core concept tightly linked to JupyterLab are Jupyter Notebooks, which will be one of the main topics in this talk, but first, let's see how we can launch JupyterLab. (DEMO)"
   ]
  },
  {
   "cell_type": "markdown",
   "id": "baaa4c9f",
   "metadata": {
    "slideshow": {
     "slide_type": "slide"
    }
   },
   "source": [
    "## How to access Jupyter Lab?\n",
    "\n",
    "(1) [UBC Server](https://ubc.syzygy.ca/)  | (2) Installed version on your computer\n",
    "   \n"
   ]
  },
  {
   "cell_type": "markdown",
   "id": "789354cc",
   "metadata": {
    "slideshow": {
     "slide_type": "slide"
    }
   },
   "source": [
    "\n",
    "## How to access Jupyter Lab?\n",
    "\n",
    "### (1) UBC Server \n",
    "\n",
    "* Enter and login https://ubc.syzygy.ca/\n",
    "* Change the end of the URL manually from `/tree` to `/lab`\n",
    "\n",
    "https://ubc.syzygy.ca/jupyter/user/fdandrea/lab\n",
    "\n"
   ]
  },
  {
   "cell_type": "markdown",
   "id": "ba24eaf4",
   "metadata": {
    "slideshow": {
     "slide_type": "slide"
    }
   },
   "source": [
    "\n",
    "<center>   \n",
    "<img src=\"img/jlab_ubc.png\" width=100%>\n",
    "</center>"
   ]
  },
  {
   "cell_type": "markdown",
   "id": "bf648726",
   "metadata": {
    "slideshow": {
     "slide_type": "slide"
    }
   },
   "source": [
    "## How to access Jupyter Lab?\n",
    "\n",
    "### (2)  Installed version on your computer\n",
    "\n",
    "Open the terminal and run \n",
    "\n",
    "`Jupyter lab`\n",
    "\n",
    "\n",
    "\n",
    "\n"
   ]
  },
  {
   "cell_type": "markdown",
   "id": "d6ade55c",
   "metadata": {
    "slideshow": {
     "slide_type": "slide"
    }
   },
   "source": [
    "<center>   \n",
    "    \n",
    "<img src=\"img/running_jlab.png\" width=100%>\n",
    "</center>"
   ]
  },
  {
   "cell_type": "markdown",
   "id": "a34697c7",
   "metadata": {
    "slideshow": {
     "slide_type": "notes"
    }
   },
   "source": [
    "- We could install and run JupyterLab just like any other program on Windows, MacOS, or Linux.\n",
    "- However, one of the advantages of JupyterLab is that it is easy to use without installing anything.\n",
    "\n",
    "- To try JupyterLab, use your web browser to visit the [first Canvas assignment](https://canvas.ubc.ca/courses/53662/assignments/635976) and login with your CWL (Firefox, and Chrome are supported)\n",
    "    - Thanks to that JupyterLab is built entirely using web technologies,\n",
    "      it can be rendered in a browser without the need to install anything.\n",
    "\n",
    "- Note that Jupyter Lab runs by default in a browser whether you run it locally or you are using it through UBC's servers. If you are running Jupyter Lab in your machine, the URL could appear as https://localhost:8888/lab. In this case, \"localhost\" it is not referring to a webpage, if not to your computer."
   ]
  },
  {
   "cell_type": "markdown",
   "id": "e06ccd47",
   "metadata": {
    "slideshow": {
     "slide_type": "slide"
    }
   },
   "source": [
    "\n",
    "After this lecture you will be able to:\n",
    "\n",
    "* Launch JupyterLab \n",
    "\n",
    "* <mark style=\"background-color: lightblue\"> Use the Notebook interface inside JupyterLab </mark>\n",
    "\n",
    "* Know your way around the JupyterLab user interface"
   ]
  },
  {
   "cell_type": "markdown",
   "id": "c9080df3",
   "metadata": {
    "slideshow": {
     "slide_type": "slide"
    }
   },
   "source": [
    "\n",
    "## Using Jupyter Notebooks"
   ]
  },
  {
   "cell_type": "markdown",
   "id": "124a1a0b",
   "metadata": {
    "slideshow": {
     "slide_type": "fragment"
    }
   },
   "source": [
    "The Notebook provides and interface where you can mix text, code, mathematical expressions, plots, videos, and more, all in the same file."
   ]
  },
  {
   "cell_type": "markdown",
   "id": "6cc5557f",
   "metadata": {
    "slideshow": {
     "slide_type": "fragment"
    }
   },
   "source": [
    "    \n",
    "<img src=\"img/notebook.png\" width=\"50%\" style=\"float:rigth\"/>\n",
    "    \n"
   ]
  },
  {
   "cell_type": "markdown",
   "id": "fcd1e21f",
   "metadata": {
    "slideshow": {
     "slide_type": "notes"
    }
   },
   "source": [
    "We're greeted by the launcher tab where we see that we can start either a Notebook or Console for Python or R, as well as some other utility programs.\n",
    "Let's start by explaining one of the most popular options, the Jupyter Notebook.\n",
    "The Notebook provides and interface where you can mix text, code, mathematical expressions, plot output, videos, and more, all in the same file.\n",
    "So instead of the traditional IDE experience where you would write code in a text file and then have figures pop up in a different panel, this information now all resides in the same document, which facilitates reproducibility and collaboration.\n",
    "The Notebooks can be exported to many formats, including PDF and HTML, which makes it easy to share your project with anyone."
   ]
  },
  {
   "cell_type": "markdown",
   "id": "f46565eb",
   "metadata": {
    "slideshow": {
     "slide_type": "slide"
    }
   },
   "source": [
    "### Live Demo"
   ]
  },
  {
   "cell_type": "markdown",
   "id": "516c17d1",
   "metadata": {
    "slideshow": {
     "slide_type": "notes"
    }
   },
   "source": [
    "The cell that is encircled in blue is where we can input Python code, click here and type any mathematical expression, and then run the cell by clicking the play button in the top toolbar:\n",
    "In [1]:\n",
    "3 + 4\n",
    "Out[1]:\n",
    "7\n",
    "As you can see, the output is returned just under input, and a new input cell was created.\n",
    "We could also have clicked the plus sign to create a new cell.\n",
    "Here, we can do anything we can do in Python, e.g. variable assignment:\n",
    "In [2]:\n",
    "a = 5\n",
    "There is no output because we just assigned a value to a variable, without asking for the value of that variable, which we can do by typing out the variable name:\n",
    "In [3]:\n",
    "a\n",
    "Out[3]:\n",
    "5\n",
    "Jupyter Notebooks also supports editing code on multiple lines, so we could have done this instead:\n",
    "In [4]:\n",
    "a = 3\n",
    "a\n",
    "Out[4]:\n",
    "3"
   ]
  },
  {
   "cell_type": "markdown",
   "id": "44c51564",
   "metadata": {
    "slideshow": {
     "slide_type": "notes"
    }
   },
   "source": [
    "<img src=\"img/cell.png\" width=60%>"
   ]
  },
  {
   "cell_type": "markdown",
   "id": "ab6dc79e",
   "metadata": {
    "slideshow": {
     "slide_type": "notes"
    }
   },
   "source": []
  },
  {
   "cell_type": "markdown",
   "id": "0b72b4ab",
   "metadata": {
    "slideshow": {
     "slide_type": "notes"
    }
   },
   "source": [
    "<img src=\"img/jnotebook_turing.jpg\" width=100% style=\"center\">\n",
    "\n",
    "[The Turing Way Community, & Scriberia (2020)](https://doi.org/10.5281/zenodo.3695300)"
   ]
  },
  {
   "cell_type": "markdown",
   "id": "28f61c20",
   "metadata": {
    "slideshow": {
     "slide_type": "slide"
    }
   },
   "source": [
    "## Working with text via Markdown cells"
   ]
  },
  {
   "cell_type": "markdown",
   "id": "3b8003f0",
   "metadata": {
    "slideshow": {
     "slide_type": "slide"
    }
   },
   "source": [
    "<img src=\"img/rawmarkdown.png\" width=80% style=\"center\">"
   ]
  },
  {
   "cell_type": "markdown",
   "id": "cae80a69",
   "metadata": {
    "slideshow": {
     "slide_type": "fragment"
    }
   },
   "source": [
    "### Heading level three\n",
    "\n",
    "- A bullet point\n",
    "- *Emphasis in italics*\n",
    "- **Strong emphasis in bold**\n",
    "- This is a [link to learn more about markdown](https://guides.github.com/features/mastering-markdown/).\n",
    "- Support for $\\LaTeX$ equations: \n",
    "$$f'(a) = \\lim_{x \\to a} \\frac{f(x) - f(a)}{x-a}$$\n",
    "\n"
   ]
  },
  {
   "cell_type": "markdown",
   "id": "9de1301b",
   "metadata": {
    "slideshow": {
     "slide_type": "notes"
    }
   },
   "source": [
    "You can change the input cell type from Python code to Markdown by clicking on the little dropdown menu in the toolbar that reads \"Code\".\n",
    "\n",
    "Markdown is a simple formatting system which allows you to document your analysis within the notebook. This is also great for creating tutorials and even books as we will see later.\n",
    "It is a plain text format that includes brief markup tags that indicates how text should be rendered, e.g. * indicates italics and ** indicates bold typeface. If you have commented on online forums or used a chat application, you might already be familiar with markdown. Below is a short example of the syntax:"
   ]
  },
  {
   "cell_type": "markdown",
   "id": "0de74c61",
   "metadata": {
    "slideshow": {
     "slide_type": "slide"
    }
   },
   "source": [
    "## Static figure creation"
   ]
  },
  {
   "cell_type": "code",
   "execution_count": 1,
   "id": "3c8fd3f1",
   "metadata": {
    "slideshow": {
     "slide_type": "slide"
    }
   },
   "outputs": [
    {
     "data": {
      "text/plain": [
       "<matplotlib.collections.PathCollection at 0x19acdda14c0>"
      ]
     },
     "execution_count": 1,
     "metadata": {},
     "output_type": "execute_result"
    },
    {
     "data": {
      "image/png": "[encoded data removed]",
      "text/plain": [
       "<Figure size 432x288 with 1 Axes>"
      ]
     },
     "metadata": {
      "needs_background": "light"
     },
     "output_type": "display_data"
    }
   ],
   "source": [
    "# Please note, you don't have to understand what is going on in this cell\n",
    "# it is just to show you how a static plot looks inside JupyterLab\n",
    "\n",
    "import numpy as np\n",
    "import matplotlib.pyplot as plt\n",
    "\n",
    "N = 50\n",
    "x = np.random.rand(N)\n",
    "y = np.random.rand(N)\n",
    "colors = np.random.rand(N)\n",
    "area = (30 * np.random.rand(N))**2  # 0 to 15 point radii\n",
    "\n",
    "plt.scatter(x, y, s=area, c=colors, alpha=0.5)"
   ]
  },
  {
   "cell_type": "markdown",
   "id": "f887b997",
   "metadata": {
    "slideshow": {
     "slide_type": "notes"
    }
   },
   "source": [
    "To show an example of how plots are rendered, we will use the seaborn plotting package which is a high level interface to the more widely known matplotlib package.\n",
    "This is just to illustrate how plots show up in the notebook rather than a tutorial on how to plot in Python so I will not go into details on what these commands mean.\n",
    "\n",
    "The above is a static figure, which means an image is created and included in the notebook.\n",
    "To save this image, you can either use a save command in the plotting library or you can hold shift and right click. Just right clicking is the JupyterLab menu, but holding shift brings up the browser menu, which includes the common options for images such as open in new tab and save."
   ]
  },
  {
   "cell_type": "markdown",
   "id": "24b4702d",
   "metadata": {
    "slideshow": {
     "slide_type": "slide"
    }
   },
   "source": [
    "\n",
    "## Exporting notebooks\n",
    "\n",
    "\n",
    "\n",
    "\n"
   ]
  },
  {
   "cell_type": "markdown",
   "id": "8f930a08",
   "metadata": {
    "slideshow": {
     "slide_type": "fragment"
    }
   },
   "source": [
    "<img src=\"img/export.png\" width=100% style=\"center\">"
   ]
  },
  {
   "cell_type": "markdown",
   "id": "c35886f1",
   "metadata": {
    "slideshow": {
     "slide_type": "notes"
    }
   },
   "source": [
    "The combination of code, plots, and markdown is powerful. With these three elements, you can keep all your analysis code and interpretations in the same document, instead of spread across different files.\n",
    "Notebooks are excellent tools to build entire reports, since they can contain formatting such as a table of contents, links to sections and files, footnotes, images, bibliographies, and even videos, which we will learn more about later in the workshop.\n",
    "You can export the notebook to different file types via File --> Export Notebook As.... (When you export to PDF for the first time on your own machine, you might be asked to download the Latex packages, which are needed to create the PDF.)\n",
    "If we would export this notebook the HTML, we would still retain the interactivity of the plots we created!"
   ]
  },
  {
   "cell_type": "markdown",
   "id": "41cef542",
   "metadata": {
    "slideshow": {
     "slide_type": "slide"
    }
   },
   "source": [
    "After this lecture you will be able to:\n",
    "\n",
    "* Launch JupyterLab \n",
    "\n",
    "* Use the Notebook interface inside JupyterLab \n",
    "\n",
    "* <mark style=\"background-color: lightblue\"> Know your way around the JupyterLab user interface </mark>"
   ]
  },
  {
   "cell_type": "markdown",
   "id": "266a563d",
   "metadata": {
    "slideshow": {
     "slide_type": "slide"
    }
   },
   "source": [
    "## The JupyterLab sidebar\n",
    "\n"
   ]
  },
  {
   "cell_type": "markdown",
   "id": "75941fd9",
   "metadata": {
    "slideshow": {
     "slide_type": "slide"
    }
   },
   "source": [
    "<img src=\"img/sidebar1.png\" width=100% style=\"center\">\n",
    "\n",
    "\n"
   ]
  },
  {
   "cell_type": "markdown",
   "id": "91769201",
   "metadata": {
    "slideshow": {
     "slide_type": "slide"
    }
   },
   "source": [
    "<img src=\"img/sidebar2.png\" width=100% style=\"center\">"
   ]
  },
  {
   "cell_type": "markdown",
   "id": "3ec4dddd",
   "metadata": {
    "slideshow": {
     "slide_type": "notes"
    }
   },
   "source": [
    "- Now that you know the basics of how to work inside Jupyter Notebooks,\n",
    "  let's continue explorer the JupyterLab user interface.\n",
    "- The puzzle piece at the bottom is where you can install extensions.\n",
    "- The next icon just shows the tabs, same as what you see on top.\n",
    "- The next icon is a bit more advanced as it allows you to add metadata to cells.\n",
    "    - One aspect worth highlighting here is the ability to denote cells as part of a slide show, that you can download via `File -> Export notebook as`.\n",
    "- The commands section is really helpful if you can't remember a shortcut or where your command is in the menu.\n",
    "    - It also shows the keyboard shortcuts for each command.\n",
    "- The stop sign icon shows an overview of all running applications.\n",
    "- The topmost icon in the sidebar to the left shows the file tree of your current folder, highlights include:\n",
    "    - the icon for uploading files from your computer to the UBC Server (or your folder if you run locally)\n",
    "    - right clicking a file to download it to your computer \n",
    "    - clicking the `+` sign takes us back to the launcher menu where we started"
   ]
  },
  {
   "cell_type": "markdown",
   "id": "67205bde",
   "metadata": {
    "slideshow": {
     "slide_type": "slide"
    }
   },
   "source": [
    "## Additional JupyterLab applications\n"
   ]
  },
  {
   "cell_type": "markdown",
   "id": "dbc6a308",
   "metadata": {
    "slideshow": {
     "slide_type": "slide"
    }
   },
   "source": [
    "<img src=\"img/launcher2.png\" width=100% style=\"center\">"
   ]
  },
  {
   "cell_type": "markdown",
   "id": "66da3e0e",
   "metadata": {
    "slideshow": {
     "slide_type": "notes"
    }
   },
   "source": [
    "jupyterLab can run applications other than notebooks, e.g. there is a Python console, a text editor, and a terminal emulator.\n",
    "These can be opened via the launcher page or File --> New.\n",
    "Applications can be placed side by side by dragging and dropping their windows, so we could be running a terminal and notebook next to each other.\n"
   ]
  },
  {
   "cell_type": "markdown",
   "id": "0ba5baeb",
   "metadata": {
    "slideshow": {
     "slide_type": "slide"
    }
   },
   "source": [
    "## How to get help in the notebook"
   ]
  },
  {
   "cell_type": "markdown",
   "id": "dcf04d86",
   "metadata": {
    "slideshow": {
     "slide_type": "slide"
    }
   },
   "source": [
    "<img src=\"img/contextual_help.png\" width=100% style=\"center\">"
   ]
  },
  {
   "cell_type": "markdown",
   "id": "6168b5b0",
   "metadata": {
    "slideshow": {
     "slide_type": "notes"
    }
   },
   "source": [
    "\n",
    "\n",
    "![](https://raw.githubusercontent.com/krassowski/jupyterlab-lsp/master/examples/screenshots/completions-Julia-Python-R.gif)\n",
    "\n",
    "[gif extracted from Language Server Protocol integration for Jupyter(Lab)](https://github.com/krassowski/jupyterlab-lsp)"
   ]
  },
  {
   "cell_type": "markdown",
   "id": "89b1a3c1",
   "metadata": {
    "slideshow": {
     "slide_type": "slide"
    }
   },
   "source": [
    "\n",
    "\n",
    "![](https://raw.githubusercontent.com/krassowski/jupyterlab-lsp/master/examples/screenshots/autocompletion.gif)\n",
    "\n",
    "[gif extracted from Language Server Protocol integration for Jupyter(Lab)](https://github.com/krassowski/jupyterlab-lsp)"
   ]
  },
  {
   "cell_type": "markdown",
   "id": "e8c90ed6",
   "metadata": {
    "slideshow": {
     "slide_type": "notes"
    }
   },
   "source": [
    "One application that is especially helpful to run next to a notebook is the Contextual Help.\n",
    "This application displays documentation automatically as you type.\n",
    "When you're using unfamiliar packages and functions, it is a good habit to leave the Contextual Help open next to the notebook.\n",
    "If you don't like having a split screen, you can instead press Shift + Tab to bring up a help dialogue.\n",
    "JupyterLab also supports tab completion, you can start typing a name and then press tab to see suggestions to expand to.\n",
    "Additional help is available via the \"Help\" menu, which links to useful online resources (for example Help --> JupyterLab Reference).\n",
    "\n",
    "If you need to restart the server, you can go to File -> Hub control panel -> Stop my server and then click Start my server -> Launch server.\n",
    "\n",
    "All your files will be saved between restarts, but any Python packages you have installed yourself will be reset, so you need to contact UBC IT to have additional Python packages installed with persistence."
   ]
  },
  {
   "cell_type": "markdown",
   "id": "d67f91b5",
   "metadata": {
    "slideshow": {
     "slide_type": "slide"
    }
   },
   "source": [
    "# Thank you!\n",
    "\n",
    "#### Slides:  Jupyter Notebook + GitHub Pages!\n",
    "\n"
   ]
  },
  {
   "cell_type": "markdown",
   "id": "4e3564f8",
   "metadata": {
    "slideshow": {
     "slide_type": "slide"
    }
   },
   "source": [
    "### Images\n",
    "\n",
    "\n",
    "The Turing Way Community, & Scriberia. (2020). Illustrations from the Turing Way book dashes. Zenodo. https://doi.org/10.5281/zenodo.3695300"
   ]
  }
 ],
 "metadata": {
  "celltoolbar": "Slideshow",
  "kernelspec": {
   "display_name": "Python 3 (ipykernel)",
   "language": "python",
   "name": "python3"
  },
  "language_info": {
   "codemirror_mode": {
    "name": "ipython",
    "version": 3
   },
   "file_extension": ".py",
   "mimetype": "text/x-python",
   "name": "python",
   "nbconvert_exporter": "python",
   "pygments_lexer": "ipython3",
   "version": "3.9.5"
  },
  "rise": {
   "theme": "simple"
  }
 },
 "nbformat": 4,
 "nbformat_minor": 5
}
